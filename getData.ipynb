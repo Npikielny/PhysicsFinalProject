{
 "cells": [
  {
   "cell_type": "code",
   "execution_count": 1,
   "metadata": {},
   "outputs": [],
   "source": [
    "planets = []\n",
    "class Planet():\n",
    "    def __init__(self, Name, Hx, Hy, Hz):\n",
    "        self.Name = Name\n",
    "        self.Hx = float(Hx)\n",
    "        self.Hy = float(Hy)\n",
    "        self.Hz = float(Hz)\n",
    "        self.Hvx = 0\n",
    "        self.Hvy = 0\n",
    "        self.Hvz = 0\n",
    "        planets.append(self)\n",
    "    \n",
    "    def setVelocities(self, Hvx,Hvy,Hvz):\n",
    "        self.Hvx = float(Hvx)\n",
    "        self.Hvy = float(Hvy)\n",
    "        self.Hvz = float(Hvz)"
   ]
  },
  {
   "cell_type": "markdown",
   "metadata": {},
   "source": [
    "readString seperate the different terms by a character used by numbers to seperate terms - for each instance of said character, a new term is formed."
   ]
  },
  {
   "cell_type": "code",
   "execution_count": 2,
   "metadata": {},
   "outputs": [],
   "source": [
    "def readString(String):\n",
    "    found = 0\n",
    "    Name = \"\"\n",
    "    Hx = 0\n",
    "    Hy = 0\n",
    "    Hz = \"\"\n",
    "    storage = \"\"\n",
    "    for i in String:\n",
    "        if i == \"\t\":\n",
    "            if found == 0:\n",
    "                Name = storage\n",
    "            elif found == 1:\n",
    "                Hx = float(storage)\n",
    "            elif found == 2:\n",
    "                Hy = float(storage)\n",
    "            elif found == 3:\n",
    "                Hz = (storage)\n",
    "            found += 1\n",
    "            storage = \"\"\n",
    "        else:\n",
    "            storage += i\n",
    "    Hz += storage\n",
    "    Hz = float(Hz)\n",
    "    return [Name, Hx, Hy, Hz]    "
   ]
  },
  {
   "cell_type": "markdown",
   "metadata": {},
   "source": [
    "Creates a bunch of planets with (x,y,z) coordinates"
   ]
  },
  {
   "cell_type": "code",
   "execution_count": 3,
   "metadata": {},
   "outputs": [],
   "source": [
    "def setupPlanets():\n",
    "    planets = []\n",
    "    for i in planetStrings:\n",
    "        analyzedString = readString(i)\n",
    "        Planet(analyzedString[0], analyzedString[1], analyzedString[2], analyzedString[3])"
   ]
  },
  {
   "cell_type": "markdown",
   "metadata": {
    "scrolled": false
   },
   "source": [
    "Sets the velocities of the planets by comparing the positions of the data points. Because of the way this function is set up, it is important to keep the two data formats the same."
   ]
  },
  {
   "cell_type": "code",
   "execution_count": 4,
   "metadata": {},
   "outputs": [],
   "source": [
    "def setVelocities(time):\n",
    "    for (k,i) in enumerate(planetStats2):\n",
    "        analyzedString = readString(i)\n",
    "        Hvx = (analyzedString[1] - planets[k].Hx)/time*1.496*10**8\n",
    "        Hvy = (analyzedString[2] - planets[k].Hy)/time*1.496*10**8\n",
    "        Hvz = (analyzedString[3] - planets[k].Hz)/time*1.496*10**8\n",
    "        planets[k].setVelocities(Hvx,Hvy,Hvz)"
   ]
  },
  {
   "cell_type": "markdown",
   "metadata": {},
   "source": [
    "Reformats the string from python to swift (swift doesn't use e for exponentials, but it does have a power function (pow or powf). Also, CGFloat is a float, which can be converted into coordinates - a CGPoint (point on the screen) is of type (CGFloat,CGFloat)."
   ]
  },
  {
   "cell_type": "code",
   "execution_count": 5,
   "metadata": {},
   "outputs": [],
   "source": [
    "def reformatE(String):\n",
    "    if String.find(\"e\") != -1:\n",
    "        return String[0:String.find(\"e\")] + \" * CGFloat(powf(10,\" + String[String.find(\"e\")+1:len(String)]+\"))\"\n",
    "    else:\n",
    "        return String\n",
    "    "
   ]
  },
  {
   "cell_type": "markdown",
   "metadata": {},
   "source": [
    "This compiles all of the functions, so it easier for the user, and puts everything into lists (from a copy and paste standpoint)."
   ]
  },
  {
   "cell_type": "code",
   "execution_count": 6,
   "metadata": {},
   "outputs": [],
   "source": [
    "def getData(Time):\n",
    "    global planets\n",
    "    planets = []\n",
    "    setupPlanets()\n",
    "    print(Time)\n",
    "    setVelocities(Time)\n",
    "    for (index,i) in enumerate(planets):\n",
    "        if index == 0:\n",
    "            print(\"[[\",i.Hx,\",\",i.Hy,\",\",i.Hz,\"],\")\n",
    "        elif index  == len(planets)-1:\n",
    "            print(\"[\",i.Hx,\",\",i.Hy,\",\",i.Hz,\"]]\")\n",
    "        else:\n",
    "            print(\"[\",i.Hx,\",\",i.Hy,\",\",i.Hz,\"],\")\n",
    "    print()\n",
    "    for (index,i) in enumerate(planets):\n",
    "        if index == 0:\n",
    "            print(\"[[\"+reformatE(str(i.Hvx))+\",\"+reformatE(str(i.Hvy))+\",\"+reformatE(str(i.Hvz))+\"],\")\n",
    "        elif index == len(planets)-1:\n",
    "            print(\"[\"+reformatE(str(i.Hvx))+\",\"+reformatE(str(i.Hvy))+\",\"+reformatE(str(i.Hvz))+\"]]\")\n",
    "        else:\n",
    "            print(\"[\"+reformatE(str(i.Hvx))+\",\"+reformatE(str(i.Hvy))+\",\"+reformatE(str(i.Hvz))+\"],\")"
   ]
  },
  {
   "cell_type": "markdown",
   "metadata": {},
   "source": [
    "# How To Input Data into This Program\n",
    "Data taken from http://cosinekitty.com/solar_system.html\n",
    "This data was copied into a numbers spreadsheet, then I selected the Names to the Z position and pasted into the following cell **- Except for the sun**. I then option dragged to create a cursor in each row, then used shortcuts to make every line a string with a comma afterwards (and I deleted the comma after the last item).\n",
    "Then, I did the same with a datapoint a few hours later (planetStats2).\n",
    "**Make sure the order of the planets in both lists are the same.**"
   ]
  },
  {
   "cell_type": "code",
   "execution_count": 7,
   "metadata": {},
   "outputs": [],
   "source": [
    "planetStrings = [\n",
    "\"Mercury\t-0.1509021\t0.2806081\t0.0367259\",\n",
    "\"Venus\t0.4618480\t0.5553867\t-0.0191717\",\n",
    "\"Earth\t-0.1871989\t0.9653285\t0.0000000\",\n",
    "\"Moon\t-0.1853689\t0.9634688\t0.0000795\",\n",
    "\"Mars\t1.3525196\t0.3955831\t-0.0250406\",\n",
    "\"Ceres\t2.0714297\t1.8979067\t-0.3222770\",\n",
    "\"Pallas\t3.0605013\t-0.8385055\t0.3233625\",\n",
    "\"Juno\t-0.9696332\t-3.0846500\t0.7393355\",\n",
    "\"Vesta\t-1.0196561\t2.3004921\t0.0550272\",\n",
    "\"Jupiter\t-5.3564951\t-1.0181555\t0.1241796\",\n",
    "\"Saturn\t-1.8316296\t-9.8969688\t0.2448807\",\n",
    "\"Uranus\t18.3398480\t7.8346983\t-0.2086124\",\n",
    "\"Neptune\t28.3683261\t-9.5642887\t-0.4537494\",\n",
    "\"Pluto\t9.7724450\t-31.6983371\t0.6063620\"\n",
    "]\n",
    "\n",
    "planetStats2 = [\n",
    "\"Mercury\t-0.1559571\t0.2785269\t0.0370220\",\n",
    "\"Venus\t0.4592406\t0.5575215\t-0.0189923\",\n",
    "\"Earth\t-0.1900597\t0.9647675\t0.0000000\",\n",
    "\"Moon\t-0.1881646\t0.9629794\t0.0000714\",\n",
    "\"Mars\t1.3519514\t0.3980208\t-0.0249757\",\n",
    "\"Ceres\t2.0702360\t1.8990698\t-0.3220204\",\n",
    "\"Pallas\t3.0606470\t-0.8373002\t0.3225173\",\n",
    "\"Juno\t-0.9682944\t-3.0849431\t0.7393478\",\n",
    "\"Vesta\t-1.0211937\t2.2996905\t0.0552382\",\n",
    "\"Jupiter\t-5.3562755\t-1.0193327\t0.1241796\",\n",
    "\"Saturn\t-1.8307633\t-9.8971423\t0.2448493\",\n",
    "\"Uranus\t18.3395861\t7.8352696\t-0.2086069\",\n",
    "\"Neptune\t28.3684908\t-9.5637869\t-0.4537635\",\n",
    "\"Pluto\t9.7729590\t-31.6982900\t0.6062095\"\n",
    "]\n",
    "\n"
   ]
  },
  {
   "cell_type": "markdown",
   "metadata": {
    "scrolled": false
   },
   "source": [
    "# Getting Data\n",
    "Once the data is enterred, run the getData function, which takes the number of seconds between the two datapoints as a parameter."
   ]
  },
  {
   "cell_type": "code",
   "execution_count": 8,
   "metadata": {},
   "outputs": [
    {
     "name": "stdout",
     "output_type": "stream",
     "text": [
      "14400\n",
      "[[ -0.1509021 , 0.2806081 , 0.0367259 ],\n",
      "[ 0.461848 , 0.5553867 , -0.0191717 ],\n",
      "[ -0.1871989 , 0.9653285 , 0.0 ],\n",
      "[ -0.1853689 , 0.9634688 , 7.95e-05 ],\n",
      "[ 1.3525196 , 0.3955831 , -0.0250406 ],\n",
      "[ 2.0714297 , 1.8979067 , -0.322277 ],\n",
      "[ 3.0605013 , -0.8385055 , 0.3233625 ],\n",
      "[ -0.9696332 , -3.08465 , 0.7393355 ],\n",
      "[ -1.0196561 , 2.3004921 , 0.0550272 ],\n",
      "[ -5.3564951 , -1.0181555 , 0.1241796 ],\n",
      "[ -1.8316296 , -9.8969688 , 0.2448807 ],\n",
      "[ 18.339848 , 7.8346983 , -0.2086124 ],\n",
      "[ 28.3683261 , -9.5642887 , -0.4537494 ],\n",
      "[ 9.772445 , -31.6983371 , 0.606362 ]]\n",
      "\n",
      "[[-52.515833333333084,-21.62135555555561,3.0761500000000055],\n",
      "[-27.087988888888702,22.17819999999992,1.8637666666666635],\n",
      "[-29.7205333333333,-5.828166666667017,0.0],\n",
      "[-29.044216666666504,-5.084322222221944,-0.08414999999999993],\n",
      "[-5.9029666666668605,25.324994444444314,0.6742388888888856],\n",
      "[-12.401216666666295,12.083316666665228,2.6657888888888444],\n",
      "[1.5136611111113851,12.52172777777741,-8.78068888888879],\n",
      "[13.908644444444167,-3.044983333332659,0.12778333333297093],\n",
      "[-15.973955555555845,-8.327733333332896,2.1920555555555854],\n",
      "[2.2814000000033197,-12.229800000001044,0.0],\n",
      "[8.999894444444305,-1.8024722222296476,-0.3262111111112644],\n",
      "[-2.7208500000176863,5.935172222220459,0.05713888888880186],\n",
      "[1.7110499999909559,5.21314444444787,-0.14648333333293198],\n",
      "[5.3398888888971126,0.4893166666640131,-1.5843055555555543]]\n"
     ]
    }
   ],
   "source": [
    "getData(4*60*60)"
   ]
  },
  {
   "cell_type": "markdown",
   "metadata": {},
   "source": [
    "# Analyzing the Data\n",
    "The first list is the positions of the planets, and the second list is the velocities for each planet.\n",
    "The order is the same the order of the input. When using my planets simulation, this can be copied into the positions and velocities data in the startup function in the solarSystem3DDetailedScene class (assuming the same data format was used)."
   ]
  },
  {
   "cell_type": "code",
   "execution_count": null,
   "metadata": {},
   "outputs": [],
   "source": []
  },
  {
   "cell_type": "code",
   "execution_count": null,
   "metadata": {},
   "outputs": [],
   "source": []
  }
 ],
 "metadata": {
  "kernelspec": {
   "display_name": "Python 3",
   "language": "python",
   "name": "python3"
  },
  "language_info": {
   "codemirror_mode": {
    "name": "ipython",
    "version": 3
   },
   "file_extension": ".py",
   "mimetype": "text/x-python",
   "name": "python",
   "nbconvert_exporter": "python",
   "pygments_lexer": "ipython3",
   "version": "3.7.3"
  }
 },
 "nbformat": 4,
 "nbformat_minor": 2
}
